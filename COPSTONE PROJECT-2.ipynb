{
 "cells": [
  {
   "cell_type": "code",
   "execution_count": 3,
   "id": "c0990873",
   "metadata": {},
   "outputs": [
    {
     "name": "stdout",
     "output_type": "stream",
     "text": [
      " ***!!!Welcome to where house stock system!!!*** \n",
      "2022-05-08 15:07:45.609006\n",
      "enter quantity of inwordstock: 5000\n",
      "\n",
      " quantity inwordstock: 5000.0\n",
      "2022-05-08 15:07:45.609006\n",
      "enter quantity of outwordstock: 60000\n",
      "\n",
      " insuffisent stock \n",
      "\n",
      " net quantity of stock = 55000.0\n",
      "2022-05-08 15:07:45.609006\n"
     ]
    }
   ],
   "source": [
    "# COPSTONE PROJECT-2\n",
    "\n",
    "# write a Python program to create a quantity of wherehouse stock class\n",
    "# with both a inwordstock() and a outwordstock() function\n",
    "\n",
    "import datetime\n",
    "date=datetime.datetime.now()\n",
    "\n",
    "class wherehouse_stock:\n",
    "    def __init__(self):\n",
    "        self.stock=50000\n",
    "        print(\" ***!!!Welcome to where house stock system!!!*** \")\n",
    "        \n",
    "    def inwordstock(self):\n",
    "        print(date)\n",
    "        quantity=float(input(\"enter quantity of inwordstock: \"))\n",
    "        self.stock+= quantity\n",
    "        print(\"\\n quantity inwordstock:\",quantity)\n",
    "        \n",
    "    def outwordstock(self):\n",
    "        print(date)\n",
    "        quantity = float(input(\"enter quantity of outwordstock: \"))\n",
    "        if self.stock>=quantity:\n",
    "            self.stock-=quantity\n",
    "            print(\"\\n outwordstock:\",quantity)\n",
    "            \n",
    "        else:\n",
    "            print(\"\\n insuffisent stock \")\n",
    "            \n",
    "    def display(self):\n",
    "        print(\"\\n net quantity of stock =\",self.stock)\n",
    "        print(date)\n",
    "        \n",
    "# Driver code\n",
    "# creating an object of class\n",
    "\n",
    "s=wherehouse_stock()\n",
    "\n",
    "# Calling functions with that class object\n",
    "\n",
    "s.inwordstock()\n",
    "s.outwordstock()\n",
    "s.display()"
   ]
  }
 ],
 "metadata": {
  "kernelspec": {
   "display_name": "Python 3 (ipykernel)",
   "language": "python",
   "name": "python3"
  },
  "language_info": {
   "codemirror_mode": {
    "name": "ipython",
    "version": 3
   },
   "file_extension": ".py",
   "mimetype": "text/x-python",
   "name": "python",
   "nbconvert_exporter": "python",
   "pygments_lexer": "ipython3",
   "version": "3.9.7"
  }
 },
 "nbformat": 4,
 "nbformat_minor": 5
}
